{
  "nbformat": 4,
  "nbformat_minor": 0,
  "metadata": {
    "colab": {
      "provenance": [],
      "include_colab_link": true
    },
    "kernelspec": {
      "name": "python3",
      "display_name": "Python 3"
    },
    "language_info": {
      "name": "python"
    }
  },
  "cells": [
    {
      "cell_type": "markdown",
      "metadata": {
        "id": "view-in-github",
        "colab_type": "text"
      },
      "source": [
        "<a href=\"https://colab.research.google.com/github/viviovilala/ISCOM-2025-Data-ML-/blob/main/Dasar%20Pemrograman%20Python.ipynb\" target=\"_parent\"><img src=\"https://colab.research.google.com/assets/colab-badge.svg\" alt=\"Open In Colab\"/></a>"
      ]
    },
    {
      "cell_type": "markdown",
      "source": [
        "## INTRO GOOGLE COLABS"
      ],
      "metadata": {
        "id": "b-sEgcYDR0FY"
      }
    },
    {
      "cell_type": "code",
      "source": [
        "#Tanda `#` digunakan untuk membuat komentar. Baris ini tidak akan dieksekusi.\n",
        "#Gunakan komentar untuk memberi keterangan dalam baris kode yang kamu buat\n",
        "\n",
        "print(\"HELLO ISCOM BUDDIES\") #kode pertama untuk menampilkan kalimat\n",
        "\n"
      ],
      "metadata": {
        "colab": {
          "base_uri": "https://localhost:8080/"
        },
        "id": "rpg-0pf0SApC",
        "outputId": "b183f6a3-131e-4eb5-c66b-f084b4ab09b1"
      },
      "execution_count": null,
      "outputs": [
        {
          "output_type": "stream",
          "name": "stdout",
          "text": [
            "HELLO ISCOM BUDDIES\n"
          ]
        }
      ]
    },
    {
      "cell_type": "markdown",
      "source": [
        "Ini adalah contoh blok text.\n",
        "Kita dapat memasukkan catatan, keterangan, membuat judul section dengan menggunakan blok text ini."
      ],
      "metadata": {
        "id": "lYUDDZTcSEV3"
      }
    },
    {
      "cell_type": "markdown",
      "source": [
        "## DASAR PEMROGRAMAN PYTHON"
      ],
      "metadata": {
        "id": "TgCqePQVQDGX"
      }
    },
    {
      "cell_type": "markdown",
      "source": [
        "### Variabel dan Tipe Data"
      ],
      "metadata": {
        "id": "eVPdFN-0QJ2H"
      }
    },
    {
      "cell_type": "code",
      "source": [
        "usia = 20\n",
        "print(usia)\n",
        "print(\"Mengubah nilai variabel usia\")\n",
        "usia = 25\n",
        "print(usia)"
      ],
      "metadata": {
        "colab": {
          "base_uri": "https://localhost:8080/"
        },
        "id": "hyMJMUFfTeUf",
        "outputId": "d486fbda-3e38-4165-f53d-a440e94a62c3"
      },
      "execution_count": null,
      "outputs": [
        {
          "output_type": "stream",
          "name": "stdout",
          "text": [
            "20\n",
            "Mengubah nilai variabel usia\n",
            "25\n"
          ]
        }
      ]
    },
    {
      "cell_type": "code",
      "source": [
        "name = \"Nabila\"\n",
        "age = 16\n",
        "weight = 45.5\n",
        "hobbies = [\"Reading\", \"Watching Movies\", \"Cooking\"]\n",
        "favorite_foods = {\"food\": \"Chicken Noodles\", \"drink\": \"Iced Tea\"}\n",
        "contacts = {\"08123456789\", \"08129876543\"}\n",
        "status = None #menyimpan nilai kosong atau tidak ada nilai sama sekali (missing value)"
      ],
      "metadata": {
        "id": "KYuBVLSqWCMn"
      },
      "execution_count": null,
      "outputs": []
    },
    {
      "cell_type": "code",
      "source": [
        "# INTEGER (bilangan bulat untuk menghitung sesuatu)\n",
        "usia = 21\n",
        "jumlah_buku = 57\n",
        "kecepatan_mobil = 80\n",
        "\n",
        "print(\"- INTEGER -\")\n",
        "print(\"Usia saya:\", usia, \"tahun\")\n",
        "print(\"Jumlah buku di rak:\", jumlah_buku)\n",
        "print(\"Kecepatan mobil di tol:\", kecepatan_mobil, \"km/jam\")\n",
        "print(\"Tipe data:\", type(usia))\n",
        "print(\"\\n\")\n",
        "\n",
        "# FLOAT (bilangan desimal untuk ukuran yang lebih )\n",
        "berat_badan = 55.6\n",
        "panjang_meja = 1.75\n",
        "\n",
        "print(\"- FLOAT -\")\n",
        "print(\"Berat badan saya:\", berat_badan, \"kg\")\n",
        "print(\"Panjang meja belajar:\", panjang_meja, \"meter\")\n",
        "print(\"Tipe data:\", type(berat_badan))\n",
        "print(\"\\n\")\n",
        "\n",
        "# STRING (kumpulan karakter, bisa kata atau kalimat)\n",
        "nama = \"Nabila\"\n",
        "alamat = \"Jl. Wiguna I No. 5, Surabaya\"\n",
        "pesan = \"Belajar phyton itu asik!\"\n",
        "\n",
        "print(\"- STRING -\")\n",
        "print(\"Nama lengkap:\", nama)\n",
        "print(\"Alamat rumah:\", alamat)\n",
        "print(\"Pesan motivasi:\", pesan)\n",
        "print(\"Panjang pesan:\", len(pesan), \"karakter\")\n",
        "print(\"Tipe data:\", type(nama))\n",
        "print(\"\\n\")\n",
        "\n",
        "# BOOLEAN (bernilai True atau False)\n",
        "sedang_hujan = True\n",
        "sudah_sarapan = False\n",
        "\n",
        "print(\"- BOOLEAN -\")\n",
        "print(\"Apakah sedang hujan?\", sedang_hujan)\n",
        "print(\"Apakah sudah sarapan?\", sudah_sarapan)\n",
        "print(\"Tipe data:\", type(sedang_hujan))\n",
        "print(\"\\n\")\n",
        "\n",
        "# LIST (kumpulan data yang bisa diubah (mutable), bisa campuran tipe data)\n",
        "makanan_favorit = [\"Nasi Goreng\", \"Sate Ayam\", \"Bakso\"]\n",
        "angka_acak = [3, 8, 1, 7, 2]\n",
        "campuran = [25, \"Laptop\", 3.14, True]\n",
        "\n",
        "print(\"- LIST -\")\n",
        "print(\"Makanan favorit saya:\", makanan_favorit)\n",
        "print(\"Angka sebelum diurutkan:\", angka_acak)\n",
        "angka_acak.sort()\n",
        "print(\"Angka setelah diurutkan:\", angka_acak)\n",
        "makanan_favorit.append(\"Mie Ayam\")\n",
        "print(\"List makanan setelah ditambah:\", makanan_favorit)\n",
        "print(\"Tipe data:\", type(makanan_favorit))\n",
        "print(\"\\n\")\n",
        "\n",
        "# TUPLE (kumpulan data yang tidak bisa diubah (immutable))\n",
        "warna_pakaian = (\"Hitam\", \"Putih\", \"Abu-abu\")\n",
        "tanggal_lahir = (15, \"Juli\", 2002)\n",
        "\n",
        "print(\"- TUPLE -\")\n",
        "print(\"Pilihan warna pakaian saya:\", warna_pakaian)\n",
        "print(\"Tanggal lahir:\", tanggal_lahir)\n",
        "print(\"Warna favorit saya:\", warna_pakaian[0])  # mengakses elemen pertama\n",
        "# warna_pakaian.append(\"Biru\")  # Ini akan error karena tuple tidak bisa diubah\n",
        "print(\"Tipe data:\", type(warna_pakaian))\n",
        "print(\"\\n\")\n",
        "\n",
        "# SET (himpunan data unik tanpa urutan)\n",
        "angka_acak_set = {5, 1, 3, 8, 3, 5, 7}\n",
        "hobi = {\"Membaca\", \"Olahraga\", \"Memasak\", \"Membaca\"}  # Elemen duplikat otomatis terhapus\n",
        "\n",
        "print(\"- SET -\")\n",
        "print(\"Angka unik dalam set:\", angka_acak_set)\n",
        "print(\"Hobi yang saya miliki:\", hobi)\n",
        "angka_acak_set.add(10)\n",
        "print(\"Set angka setelah ditambah:\", angka_acak_set)\n",
        "print(\"Tipe data:\", type(angka_acak_set))\n",
        "print(\"\\n\")\n",
        "\n",
        "# DICTIONARY (data berbentuk pasangan key-value)\n",
        "data_diri = {\n",
        "    \"nama\": \"Nabila\",\n",
        "    \"usia\": 19,\n",
        "    \"pekerjaan\": \"Mahasiswa\",\n",
        "    \"hobi\": [\"Belajar\", \"Olahraga\"]\n",
        "}\n",
        "\n",
        "print(\"- DICTIONARY -\")\n",
        "print(\"Profil saya:\", data_diri)\n",
        "print(\"Nama saya:\", data_diri[\"nama\"])\n",
        "print(\"Usia saya sekarang:\", data_diri[\"usia\"], \"tahun\")\n",
        "data_diri[\"usia\"] = 20  # mengubah nilai dalam dictionary\n",
        "print(\"Usia setelah ulang tahun:\", data_diri[\"usia\"])\n",
        "print(\"Tipe data:\", type(data_diri))\n",
        "print(\"\\n\")\n"
      ],
      "metadata": {
        "colab": {
          "base_uri": "https://localhost:8080/"
        },
        "id": "U-yvwtvcT_uS",
        "outputId": "4b798bee-d499-4d47-9033-2ab292058c86"
      },
      "execution_count": null,
      "outputs": [
        {
          "output_type": "stream",
          "name": "stdout",
          "text": [
            "- INTEGER -\n",
            "Usia saya: 21 tahun\n",
            "Jumlah buku di rak: 57\n",
            "Kecepatan mobil di tol: 80 km/jam\n",
            "Tipe data: <class 'int'>\n",
            "\n",
            "\n",
            "- FLOAT -\n",
            "Berat badan saya: 55.6 kg\n",
            "Panjang meja belajar: 1.75 meter\n",
            "Tipe data: <class 'float'>\n",
            "\n",
            "\n",
            "- STRING -\n",
            "Nama lengkap: Nabila\n",
            "Alamat rumah: Jl. Wiguna I No. 5, Surabaya\n",
            "Pesan motivasi: Belajar phyton itu asik!\n",
            "Panjang pesan: 24 karakter\n",
            "Tipe data: <class 'str'>\n",
            "\n",
            "\n",
            "- BOOLEAN -\n",
            "Apakah sedang hujan? True\n",
            "Apakah sudah sarapan? False\n",
            "Tipe data: <class 'bool'>\n",
            "\n",
            "\n",
            "- LIST -\n",
            "Makanan favorit saya: ['Nasi Goreng', 'Sate Ayam', 'Bakso']\n",
            "Angka sebelum diurutkan: [3, 8, 1, 7, 2]\n",
            "Angka setelah diurutkan: [1, 2, 3, 7, 8]\n",
            "List makanan setelah ditambah: ['Nasi Goreng', 'Sate Ayam', 'Bakso', 'Mie Ayam']\n",
            "Tipe data: <class 'list'>\n",
            "\n",
            "\n",
            "- TUPLE -\n",
            "Pilihan warna pakaian saya: ('Hitam', 'Putih', 'Abu-abu')\n",
            "Tanggal lahir: (15, 'Juli', 2002)\n",
            "Warna favorit saya: Hitam\n",
            "Tipe data: <class 'tuple'>\n",
            "\n",
            "\n",
            "- SET -\n",
            "Angka unik dalam set: {1, 3, 5, 7, 8}\n",
            "Hobi yang saya miliki: {'Olahraga', 'Memasak', 'Membaca'}\n",
            "Set angka setelah ditambah: {1, 3, 5, 7, 8, 10}\n",
            "Tipe data: <class 'set'>\n",
            "\n",
            "\n",
            "- DICTIONARY -\n",
            "Profil saya: {'nama': 'Nabila', 'usia': 19, 'pekerjaan': 'Mahasiswa', 'hobi': ['Belajar', 'Olahraga']}\n",
            "Nama saya: Nabila\n",
            "Usia saya sekarang: 19 tahun\n",
            "Usia setelah ulang tahun: 20\n",
            "Tipe data: <class 'dict'>\n",
            "\n",
            "\n"
          ]
        }
      ]
    },
    {
      "cell_type": "code",
      "source": [
        "print(\"- PERSONAL INFO -\")\n",
        "print(\"Name:\", name)\n",
        "print(\"Age:\", age, \"years old\")\n",
        "print(\"Weight:\", weight, \"kg\")\n",
        "print(\"Hobbies:\", hobbies)\n",
        "print(\"Favorite Food:\", favorite_foods[\"food\"])\n",
        "print(\"Favorite Drink:\", favorite_foods[\"drink\"], \"\\n\")\n",
        "print(\"Contacts:\", contacts)\n",
        "print(\"Status:\", status)"
      ],
      "metadata": {
        "colab": {
          "base_uri": "https://localhost:8080/"
        },
        "id": "NIBVOXvrTvDV",
        "outputId": "78f0e07b-23bf-4366-eaa3-453f63d93d0d"
      },
      "execution_count": null,
      "outputs": [
        {
          "output_type": "stream",
          "name": "stdout",
          "text": [
            "- PERSONAL INFO -\n",
            "Name: Nabila\n",
            "Age: 16 years old\n",
            "Weight: 45.5 kg\n",
            "Hobbies: ['Reading', 'Watching Movies', 'Cooking']\n",
            "Favorite Food: Chicken Noodles\n",
            "Favorite Drink: Iced Tea \n",
            "\n",
            "Contacts: {'08123456789', '08129876543'}\n",
            "Status: None\n"
          ]
        }
      ]
    },
    {
      "cell_type": "markdown",
      "source": [
        "### Basic Arithmetic Operations"
      ],
      "metadata": {
        "id": "ERrR6QaUQSgS"
      }
    },
    {
      "cell_type": "code",
      "source": [
        "#@title Addition\n",
        "\n",
        "a = 3\n",
        "b = 2\n",
        "c = a+b\n",
        "print(a)\n",
        "print(b)\n",
        "print(c)\n"
      ],
      "metadata": {
        "colab": {
          "base_uri": "https://localhost:8080/"
        },
        "id": "IY9kAtgSXbC1",
        "outputId": "5b03f377-3be3-42f8-c30e-e9d187b6bebc"
      },
      "execution_count": null,
      "outputs": [
        {
          "output_type": "stream",
          "name": "stdout",
          "text": [
            "3\n",
            "2\n",
            "5\n"
          ]
        }
      ]
    },
    {
      "cell_type": "code",
      "source": [
        "#@title Subtraction\n",
        "\n",
        "a = 15\n",
        "b = 10\n",
        "c = a-b\n",
        "print(a)\n",
        "print(b)\n",
        "print(c)\n"
      ],
      "metadata": {
        "colab": {
          "base_uri": "https://localhost:8080/"
        },
        "outputId": "d2789da5-9b87-4ee6-8b5f-b51489e6085b",
        "id": "hU4IzUN6X4d0"
      },
      "execution_count": null,
      "outputs": [
        {
          "output_type": "stream",
          "name": "stdout",
          "text": [
            "15\n",
            "10\n",
            "5\n"
          ]
        }
      ]
    },
    {
      "cell_type": "code",
      "source": [
        "#@title Multiplication\n",
        "\n",
        "a = 10\n",
        "b = 8\n",
        "c = a*b\n",
        "print(a)\n",
        "print(b)\n",
        "print(c)\n"
      ],
      "metadata": {
        "colab": {
          "base_uri": "https://localhost:8080/"
        },
        "outputId": "11a66edd-b9d1-4831-f3ae-09d041814d5e",
        "id": "daJ6np6xX71L"
      },
      "execution_count": null,
      "outputs": [
        {
          "output_type": "stream",
          "name": "stdout",
          "text": [
            "10\n",
            "8\n",
            "80\n"
          ]
        }
      ]
    },
    {
      "cell_type": "code",
      "source": [
        "#@title Division\n",
        "\n",
        "a = 20\n",
        "b = 4\n",
        "c = a/b #(returns a float)\n",
        "d = a//b #(returns an integer) => menghitung hasilnya saja tanpa sisa\n",
        "print(a)\n",
        "print(b)\n",
        "print(c)\n",
        "print(d)"
      ],
      "metadata": {
        "colab": {
          "base_uri": "https://localhost:8080/"
        },
        "outputId": "55d0d79f-5aa9-4de8-e2c9-f40e17b72474",
        "id": "faU_c0bxYDM4"
      },
      "execution_count": null,
      "outputs": [
        {
          "output_type": "stream",
          "name": "stdout",
          "text": [
            "20\n",
            "4\n",
            "5.0\n",
            "5\n"
          ]
        }
      ]
    },
    {
      "cell_type": "code",
      "source": [
        "a = 25\n",
        "b = 4\n",
        "c = a/b #hasilnya 6,25 (float / desimal)\n",
        "d = a//b # 25 dibagi 4 hasilnya 6 sisa 1, maka hasilnya 6 (integer)\n",
        "print(a)\n",
        "print(b)\n",
        "print(c)\n",
        "print(d)"
      ],
      "metadata": {
        "colab": {
          "base_uri": "https://localhost:8080/"
        },
        "id": "N1VOsaFNDgxg",
        "outputId": "ff60416e-b4e1-4fe6-c9ba-8751a3054a65"
      },
      "execution_count": null,
      "outputs": [
        {
          "output_type": "stream",
          "name": "stdout",
          "text": [
            "25\n",
            "4\n",
            "6.25\n",
            "6\n"
          ]
        }
      ]
    },
    {
      "cell_type": "code",
      "source": [
        "#@title Multiplication\n",
        "\n",
        "a = 6\n",
        "b = 2\n",
        "c = a**b\n",
        "print(a)\n",
        "print(b)\n",
        "print(c)"
      ],
      "metadata": {
        "colab": {
          "base_uri": "https://localhost:8080/"
        },
        "outputId": "de77dab2-9c0c-436d-ca9e-c1c619caee40",
        "id": "YE91t_RhYQRa"
      },
      "execution_count": null,
      "outputs": [
        {
          "output_type": "stream",
          "name": "stdout",
          "text": [
            "6\n",
            "2\n",
            "36\n"
          ]
        }
      ]
    },
    {
      "cell_type": "code",
      "source": [
        "#@title Modulus\n",
        "\n",
        "a = 7\n",
        "b = 4\n",
        "c = a%b\n",
        "print(a)\n",
        "print(b)\n",
        "print(c)"
      ],
      "metadata": {
        "colab": {
          "base_uri": "https://localhost:8080/"
        },
        "outputId": "8ff1d8be-9219-4dcc-e2ac-7d80b3ee22a7",
        "id": "Nxg-aG2MYa_F"
      },
      "execution_count": null,
      "outputs": [
        {
          "output_type": "stream",
          "name": "stdout",
          "text": [
            "7\n",
            "4\n",
            "3\n"
          ]
        }
      ]
    },
    {
      "cell_type": "markdown",
      "source": [
        "### Conditional Statement"
      ],
      "metadata": {
        "id": "iEc9ZoY_QY8g"
      }
    },
    {
      "cell_type": "code",
      "source": [
        "a = 20\n",
        "if a < 100:\n",
        "  b = a - 8\n",
        "elif a == 10:\n",
        "  b = 10-0\n",
        "else:\n",
        "  b = 100\n",
        "\n",
        "print(b)"
      ],
      "metadata": {
        "colab": {
          "base_uri": "https://localhost:8080/"
        },
        "id": "CnxUu893l7bX",
        "outputId": "d44ebc75-656b-4af4-a8fd-c942704b1f9d"
      },
      "execution_count": null,
      "outputs": [
        {
          "output_type": "stream",
          "name": "stdout",
          "text": [
            "12\n"
          ]
        }
      ]
    },
    {
      "cell_type": "markdown",
      "source": [
        "### Iteration"
      ],
      "metadata": {
        "id": "RT4pA8OeQcNY"
      }
    },
    {
      "cell_type": "code",
      "source": [
        "for index in range(10): # dari 0 hingga 9 (10-1)\n",
        "    print(\"Iteration number: \" + str(index))"
      ],
      "metadata": {
        "colab": {
          "base_uri": "https://localhost:8080/"
        },
        "id": "pNDB8nt6GKhV",
        "outputId": "1a03d5fd-0215-49f0-af31-9e0f79865969"
      },
      "execution_count": null,
      "outputs": [
        {
          "output_type": "stream",
          "name": "stdout",
          "text": [
            "Iteration number: 0\n",
            "Iteration number: 1\n",
            "Iteration number: 2\n",
            "Iteration number: 3\n",
            "Iteration number: 4\n",
            "Iteration number: 5\n",
            "Iteration number: 6\n",
            "Iteration number: 7\n",
            "Iteration number: 8\n",
            "Iteration number: 9\n"
          ]
        }
      ]
    },
    {
      "cell_type": "code",
      "source": [
        "for index in range(1, 9): # dari 1 hingga 9\n",
        "    print(\"Iteration number: \" + str(index))"
      ],
      "metadata": {
        "colab": {
          "base_uri": "https://localhost:8080/"
        },
        "id": "7JEzVvdv8vMQ",
        "outputId": "c83e1f1d-8f50-4879-9d3e-ef0420493f33"
      },
      "execution_count": null,
      "outputs": [
        {
          "output_type": "stream",
          "name": "stdout",
          "text": [
            "Iteration number: 1\n",
            "Iteration number: 2\n",
            "Iteration number: 3\n",
            "Iteration number: 4\n",
            "Iteration number: 5\n",
            "Iteration number: 6\n",
            "Iteration number: 7\n",
            "Iteration number: 8\n"
          ]
        }
      ]
    },
    {
      "cell_type": "code",
      "source": [
        "for i in range(1, 10, 2): # dari 1 hingga 9 lompat 2\n",
        "    print(f\"Iteration {i}\")"
      ],
      "metadata": {
        "colab": {
          "base_uri": "https://localhost:8080/"
        },
        "outputId": "5ae0a626-701a-414a-8def-2b58540f7590",
        "id": "DsSYgSdD8POo"
      },
      "execution_count": null,
      "outputs": [
        {
          "output_type": "stream",
          "name": "stdout",
          "text": [
            "Iteration 1\n",
            "Iteration 3\n",
            "Iteration 5\n",
            "Iteration 7\n",
            "Iteration 9\n"
          ]
        }
      ]
    },
    {
      "cell_type": "code",
      "source": [
        "for i in range(10, 0, -1): # dari 10 hingga 1 lompat -1\n",
        "    print(f\"Iteration {i}\")"
      ],
      "metadata": {
        "colab": {
          "base_uri": "https://localhost:8080/"
        },
        "id": "tFaVnTwwGSzH",
        "outputId": "8deabc56-5c16-4791-df35-6c10d28f1872"
      },
      "execution_count": null,
      "outputs": [
        {
          "output_type": "stream",
          "name": "stdout",
          "text": [
            "Iteration 10\n",
            "Iteration 9\n",
            "Iteration 8\n",
            "Iteration 7\n",
            "Iteration 6\n",
            "Iteration 5\n",
            "Iteration 4\n",
            "Iteration 3\n",
            "Iteration 2\n",
            "Iteration 1\n"
          ]
        }
      ]
    },
    {
      "cell_type": "code",
      "source": [
        "makanan_fav = ['ayam goreng', 'ramen', 'seblak', 'dimsum']\n",
        "for makanan in makanan_fav:\n",
        "    print(f'saya mau makan {makanan}')"
      ],
      "metadata": {
        "colab": {
          "base_uri": "https://localhost:8080/"
        },
        "id": "G_vwzaNhoWNr",
        "outputId": "a9da8004-d6f4-417b-900b-6521f7c37bbb"
      },
      "execution_count": null,
      "outputs": [
        {
          "output_type": "stream",
          "name": "stdout",
          "text": [
            "saya mau makan ayam goreng\n",
            "saya mau makan ramen\n",
            "saya mau makan seblak\n",
            "saya mau makan dimsum\n"
          ]
        }
      ]
    },
    {
      "cell_type": "code",
      "source": [
        "biodata = {'nama': 'John Doe', 'usia': 12, 'alamat': 'surabaya'}\n",
        "for key, value in biodata.items():\n",
        "    print(f'{key}: {value}')"
      ],
      "metadata": {
        "colab": {
          "base_uri": "https://localhost:8080/"
        },
        "id": "E1hNmnVBozlu",
        "outputId": "cf8a46a3-b6c8-4762-e961-e1cf2b411973"
      },
      "execution_count": null,
      "outputs": [
        {
          "output_type": "stream",
          "name": "stdout",
          "text": [
            "nama: John Doe\n",
            "usia: 12\n",
            "alamat: surabaya\n"
          ]
        }
      ]
    },
    {
      "cell_type": "code",
      "source": [
        "count = 0\n",
        "while count < 5:\n",
        "    print(f\"Count: {count}\")\n",
        "    count += 1"
      ],
      "metadata": {
        "colab": {
          "base_uri": "https://localhost:8080/"
        },
        "id": "4yxRKwhH9UdW",
        "outputId": "889c49f9-d51f-4e89-894e-253bc9dd9817"
      },
      "execution_count": null,
      "outputs": [
        {
          "output_type": "stream",
          "name": "stdout",
          "text": [
            "Count: 0\n",
            "Count: 1\n",
            "Count: 2\n",
            "Count: 3\n",
            "Count: 4\n"
          ]
        }
      ]
    },
    {
      "cell_type": "code",
      "source": [
        "is_running = True\n",
        "count = 0\n",
        "\n",
        "while is_running:\n",
        "    print(f\"Count: {count}\")\n",
        "    count += 1\n",
        "\n",
        "    if count >= 5:\n",
        "        is_running = False  # Set the boolean to False to stop the loop\n",
        "        print(\"Loop stopped.\")"
      ],
      "metadata": {
        "colab": {
          "base_uri": "https://localhost:8080/"
        },
        "id": "DEM-ObZcIHx0",
        "outputId": "5b2ceefe-76f9-435e-a90e-e8e69aefdb30"
      },
      "execution_count": null,
      "outputs": [
        {
          "output_type": "stream",
          "name": "stdout",
          "text": [
            "Count: 0\n",
            "Count: 1\n",
            "Count: 2\n",
            "Count: 3\n",
            "Count: 4\n",
            "Loop stopped.\n"
          ]
        }
      ]
    },
    {
      "cell_type": "markdown",
      "source": [
        "### Function"
      ],
      "metadata": {
        "id": "P51rX3evQdVQ"
      }
    },
    {
      "cell_type": "code",
      "source": [
        "def greet(name):\n",
        "    return f\"Hello, {name}!\"\n",
        "\n",
        "print(greet(\"Nabila\"))\n"
      ],
      "metadata": {
        "id": "i0CAq4zWDSUD",
        "colab": {
          "base_uri": "https://localhost:8080/"
        },
        "outputId": "9aec4858-39c9-437e-a089-3290648c9514"
      },
      "execution_count": null,
      "outputs": [
        {
          "output_type": "stream",
          "name": "stdout",
          "text": [
            "Hello, Nabila!\n"
          ]
        }
      ]
    },
    {
      "cell_type": "markdown",
      "source": [
        "### \"try-except-pass\""
      ],
      "metadata": {
        "id": "CLKKqt3DQfvK"
      }
    },
    {
      "cell_type": "code",
      "source": [
        "\n",
        "try:\n",
        "    # potensi kode yang menghasilkan exception\n",
        "    x = 5 / 0\n",
        "except:\n",
        "    # kode yang akan dieksekusi jika exception terjadi\n",
        "    print(\"Terjadi kesalahan!\")\n",
        "    pass\n"
      ],
      "metadata": {
        "id": "JXT0ZPF3LM-a",
        "colab": {
          "base_uri": "https://localhost:8080/"
        },
        "outputId": "bbb7b098-9bdc-4100-c219-e867a5777919"
      },
      "execution_count": null,
      "outputs": [
        {
          "output_type": "stream",
          "name": "stdout",
          "text": [
            "Terjadi kesalahan!\n"
          ]
        }
      ]
    },
    {
      "cell_type": "markdown",
      "source": [
        "### User Input"
      ],
      "metadata": {
        "id": "PollZBYoQnGx"
      }
    },
    {
      "cell_type": "code",
      "source": [
        "nama = input(\"Masukkan Nama Anda \")\n",
        "print(\"Nama saya \" + nama)"
      ],
      "metadata": {
        "id": "1pNDZbTiOReI"
      },
      "execution_count": null,
      "outputs": []
    },
    {
      "cell_type": "code",
      "source": [
        "a = 100\n",
        "while a >= 100:\n",
        "  print(type(a))\n",
        "  a = a-50"
      ],
      "metadata": {
        "id": "EzLkL_0-OW24"
      },
      "execution_count": null,
      "outputs": []
    },
    {
      "cell_type": "markdown",
      "source": [
        "### Import Module"
      ],
      "metadata": {
        "id": "rsdFqOob474y"
      }
    },
    {
      "cell_type": "code",
      "source": [
        "import math\n",
        "print(math.sqrt(16))\n",
        "print(math.factorial(5))"
      ],
      "metadata": {
        "id": "O_kpLSUqnTrp"
      },
      "execution_count": null,
      "outputs": []
    },
    {
      "cell_type": "code",
      "source": [
        "from datetime import date\n",
        "from datetime import datetime\n",
        "\n",
        "# Date Type Example\n",
        "today = date.today()\n",
        "now = datetime.now()\n",
        "\n",
        "print(\"- DATE TYPE -\")\n",
        "print(\"Today's Date:\", today)\n",
        "print(\"Data Type:\", type(today))  # Output: <class 'date'>\n",
        "\n",
        "print(\"\\n\")\n",
        "\n",
        "print(\"- DATETIME TYPE -\")\n",
        "print(\"Current Date and Time:\", now)\n",
        "print(\"Data Type:\", type(now))  # Output: <class 'datetime'>"
      ],
      "metadata": {
        "id": "RQluDITqVFMZ"
      },
      "execution_count": null,
      "outputs": []
    },
    {
      "cell_type": "code",
      "source": [
        "import math as mt\n",
        "print(mt.sqrt(16))\n",
        "print(mt.factorial(5))"
      ],
      "metadata": {
        "id": "QXdp6PZ4KhLL"
      },
      "execution_count": null,
      "outputs": []
    },
    {
      "cell_type": "markdown",
      "source": [
        "## list manipulation"
      ],
      "metadata": {
        "id": "Vhhh2RQisrG2"
      }
    },
    {
      "cell_type": "code",
      "source": [
        "# Original\n",
        "my_list = [1, 2, 3, 4, 5]\n",
        "print(\"Original List:\", my_list)\n",
        "\n",
        "# Akses elemen\n",
        "first_element = my_list[0]  # akses elemen pertama pake index 0\n",
        "print(\"First Element:\", first_element)\n",
        "\n",
        "last_element = my_list[-1]  # elemen terakhir index -1\n",
        "print(\"Last Element:\", last_element)"
      ],
      "metadata": {
        "colab": {
          "base_uri": "https://localhost:8080/"
        },
        "id": "ffIa2qzMsBpW",
        "outputId": "acbcd73b-4873-47ef-9710-43bb452b6553"
      },
      "execution_count": null,
      "outputs": [
        {
          "output_type": "stream",
          "name": "stdout",
          "text": [
            "Original List: [1, 2, 3, 4, 5]\n",
            "First Element: 1\n",
            "Last Element: 5\n"
          ]
        }
      ]
    },
    {
      "cell_type": "code",
      "source": [
        "# Slicing\n",
        "\n",
        "# List contoh\n",
        "my_list = [10, 20, 30, 40, 50, 60, 70, 80, 90, 100]\n",
        "\n",
        "# Slice dari awal sampe indeks 4 (tapi nggak termasuk indeks 4)\n",
        "# gampangannya ambil 4 elemen awal\n",
        "slice1 = my_list[:4]\n",
        "print(slice1)  # Output: [10, 20, 30, 40]\n",
        "\n",
        "# Slice dari indeks 5 sampe akhir list\n",
        "slice2 = my_list[5:]\n",
        "print(slice2)  # Output: [60, 70, 80, 90, 100]\n",
        "\n",
        "# Slice dari indeks 2 sampe indeks 6 (tapi nggak termasuk indeks 6)\n",
        "slice3 = my_list[2:6]\n",
        "print(slice3)  # Output: [30, 40, 50, 60]\n",
        "\n",
        "# Slice dengan step: Ambil tiap elemen ke-2 dari indeks 1 sampe 8\n",
        "slice4 = my_list[1:8:2]\n",
        "print(slice4)  # Output: [20, 40, 60]"
      ],
      "metadata": {
        "colab": {
          "base_uri": "https://localhost:8080/"
        },
        "id": "qKiyZnGQNldh",
        "outputId": "f3447b0f-b0e4-4a4f-f6b2-d7f57040a94c"
      },
      "execution_count": null,
      "outputs": [
        {
          "output_type": "stream",
          "name": "stdout",
          "text": [
            "[10, 20, 30, 40]\n",
            "[60, 70, 80, 90, 100]\n",
            "[30, 40, 50, 60]\n",
            "[20, 40, 60, 80]\n"
          ]
        }
      ]
    },
    {
      "cell_type": "code",
      "source": [
        "# Reverse list pake slicing\n",
        "reverse_slice = my_list[::-1]\n",
        "print(reverse_slice)  # Output: [100, 90, 80, 70, 60, 50, 40, 30, 20, 10]"
      ],
      "metadata": {
        "colab": {
          "base_uri": "https://localhost:8080/"
        },
        "id": "jkLtJb_5POfy",
        "outputId": "ff59469d-a08f-4b7c-dfdf-491f94214e21"
      },
      "execution_count": null,
      "outputs": [
        {
          "output_type": "stream",
          "name": "stdout",
          "text": [
            "[100, 90, 80, 70, 60, 50, 40, 30, 20, 10]\n"
          ]
        }
      ]
    },
    {
      "cell_type": "code",
      "source": [
        "# Tambah Elemen\n",
        "my_list.append(6)  # .append\n",
        "print(\"List after appending:\", my_list)\n",
        "\n",
        "my_list.insert(2, 7)  # tambah nilai 7 di indeks 2\n",
        "print(\"List after inserting:\", my_list)"
      ],
      "metadata": {
        "colab": {
          "base_uri": "https://localhost:8080/"
        },
        "id": "wVmaPZSIvZiN",
        "outputId": "7fcd51e5-28df-4933-ed78-d28b17125a96"
      },
      "execution_count": null,
      "outputs": [
        {
          "output_type": "stream",
          "name": "stdout",
          "text": [
            "List after appending: [1, 2, 3, 4, 5, 6]\n",
            "List after inserting: [1, 2, 7, 3, 4, 5, 6]\n"
          ]
        }
      ]
    },
    {
      "cell_type": "code",
      "source": [
        "# Hapus elemen\n",
        "my_list.remove(3)  # hapus elemen '3'\n",
        "print(\"List after removing 3:\", my_list)\n",
        "\n",
        "removed_element = my_list.pop(1)  # ambil dari list elemen di indeks 1 dan disimpan\n",
        "print(\"Removed element:\", removed_element)\n",
        "print(\"List after popping:\", my_list)"
      ],
      "metadata": {
        "colab": {
          "base_uri": "https://localhost:8080/"
        },
        "id": "KyVbBHTFvb8t",
        "outputId": "f1aef010-af7c-4fec-d017-66388c5e1397"
      },
      "execution_count": null,
      "outputs": [
        {
          "output_type": "stream",
          "name": "stdout",
          "text": [
            "List after removing 3: [1, 2, 7, 4, 5, 6]\n",
            "Removed element: 2\n",
            "List after popping: [1, 7, 4, 5, 6]\n"
          ]
        }
      ]
    },
    {
      "cell_type": "code",
      "source": [
        "# Ubah nilai Elements\n",
        "my_list[0] = 10\n",
        "print(\"List after modification:\", my_list)"
      ],
      "metadata": {
        "colab": {
          "base_uri": "https://localhost:8080/"
        },
        "id": "iwcibdFoveJg",
        "outputId": "6564249a-12ef-40e9-d403-e8eb92e91053"
      },
      "execution_count": null,
      "outputs": [
        {
          "output_type": "stream",
          "name": "stdout",
          "text": [
            "List after modification: [10, 7, 4, 5, 6]\n"
          ]
        }
      ]
    },
    {
      "cell_type": "code",
      "source": [
        "# Ambil panjang list\n",
        "list_length = len(my_list)\n",
        "print(\"Length of the list:\", list_length)"
      ],
      "metadata": {
        "colab": {
          "base_uri": "https://localhost:8080/"
        },
        "id": "PhEtvgluvfvr",
        "outputId": "9f94bde4-9e5d-4caf-951e-ccefc5ea15dc"
      },
      "execution_count": null,
      "outputs": [
        {
          "output_type": "stream",
          "name": "stdout",
          "text": [
            "Length of the list: 5\n"
          ]
        }
      ]
    },
    {
      "cell_type": "code",
      "source": [
        "# Cek elemen\n",
        "if 4 in my_list:\n",
        "    print(\"4 is in the list\")\n",
        "else:\n",
        "    print(\"4 is not in the list\")"
      ],
      "metadata": {
        "colab": {
          "base_uri": "https://localhost:8080/"
        },
        "id": "FadjLk68uv_K",
        "outputId": "502d1830-82e4-4331-a6e1-ac0d1cd8394e"
      },
      "execution_count": null,
      "outputs": [
        {
          "output_type": "stream",
          "name": "stdout",
          "text": [
            "4 is in the list\n"
          ]
        }
      ]
    },
    {
      "cell_type": "code",
      "source": [
        "# Min max\n",
        "my_list = [5, 2, 8, 1, 9]\n",
        "min_value = min(my_list)\n",
        "max_value = max(my_list)\n",
        "print(\"Minimum value:\", min_value)\n",
        "print(\"Maximum value:\", max_value)"
      ],
      "metadata": {
        "colab": {
          "base_uri": "https://localhost:8080/"
        },
        "id": "Ldvq7x62QzaE",
        "outputId": "51c92b50-603b-4cb7-d864-da5a0bff8594"
      },
      "execution_count": null,
      "outputs": [
        {
          "output_type": "stream",
          "name": "stdout",
          "text": [
            "Minimum value: 1\n",
            "Maximum value: 9\n"
          ]
        }
      ]
    },
    {
      "cell_type": "code",
      "source": [
        "# kombinasi list\n",
        "list1 = [1, 2, 3]\n",
        "list2 = [4, 5, 6]\n",
        "combined_list = list1 + list2\n",
        "print(\"Combined list:\", combined_list)"
      ],
      "metadata": {
        "colab": {
          "base_uri": "https://localhost:8080/"
        },
        "id": "6tijQyf4unWi",
        "outputId": "6c5a2f58-feb4-4fbe-eb6c-b09f27172362"
      },
      "execution_count": null,
      "outputs": [
        {
          "output_type": "stream",
          "name": "stdout",
          "text": [
            "Combined list: [1, 2, 3, 4, 5, 6]\n"
          ]
        }
      ]
    },
    {
      "cell_type": "code",
      "source": [
        "# Sorting\n",
        "my_list = [5,2,8,1,9]\n",
        "my_list.sort() #In-place sort (modifies the original list)\n",
        "print(\"Sorted List:\", my_list)\n",
        "\n",
        "my_list = [5,2,8,1,9]\n",
        "sorted_list = sorted(my_list) #Returns a new sorted list, original is not modified\n",
        "print(\"Original List:\", my_list)\n",
        "print(\"Sorted List:\", sorted_list)"
      ],
      "metadata": {
        "colab": {
          "base_uri": "https://localhost:8080/"
        },
        "id": "bRV4kXCAuqpA",
        "outputId": "840b25c4-59d8-48e2-bf77-571f9210f11c"
      },
      "execution_count": null,
      "outputs": [
        {
          "output_type": "stream",
          "name": "stdout",
          "text": [
            "Sorted List: [1, 2, 5, 8, 9]\n",
            "Original List: [5, 2, 8, 1, 9]\n",
            "Sorted List: [1, 2, 5, 8, 9]\n"
          ]
        }
      ]
    },
    {
      "cell_type": "code",
      "source": [
        "# Reversing\n",
        "my_list.reverse()\n",
        "print(\"Reversed list:\", my_list)"
      ],
      "metadata": {
        "colab": {
          "base_uri": "https://localhost:8080/"
        },
        "id": "p2X16hAjusAp",
        "outputId": "8ecf1258-4290-4ecc-962a-1c2dcd94f370"
      },
      "execution_count": null,
      "outputs": [
        {
          "output_type": "stream",
          "name": "stdout",
          "text": [
            "Reversed list: [9, 1, 8, 2, 5]\n"
          ]
        }
      ]
    },
    {
      "cell_type": "code",
      "source": [
        "# Copy list\n",
        "new_list = my_list.copy()\n",
        "new_list.append(10)\n",
        "print(\"Original list:\", my_list)\n",
        "print(\"Copied list:\", new_list)"
      ],
      "metadata": {
        "colab": {
          "base_uri": "https://localhost:8080/"
        },
        "id": "KHpP9bj8ut21",
        "outputId": "aec129e1-e708-4bdb-e8f3-ab88596b3726"
      },
      "execution_count": null,
      "outputs": [
        {
          "output_type": "stream",
          "name": "stdout",
          "text": [
            "Original list: [9, 1, 8, 2, 5]\n",
            "Copied list: [9, 1, 8, 2, 5, 10]\n"
          ]
        }
      ]
    },
    {
      "cell_type": "markdown",
      "source": [
        "## Comprehension"
      ],
      "metadata": {
        "id": "ftPcPr8Sq0Xz"
      }
    },
    {
      "cell_type": "code",
      "source": [
        "# Membuat list angka ganjil dari 1 hingga 10\n",
        "# lama\n",
        "angka_ganjil = []\n",
        "for i in range(11):\n",
        "  if i%2 == 1: angka_ganjil.append(i)\n",
        "print(angka_ganjil)\n",
        "\n",
        "# Baru\n",
        "angka_ganjil = [i for i in range(11) if i%2 == 1]\n",
        "print(angka_ganjil)"
      ],
      "metadata": {
        "colab": {
          "base_uri": "https://localhost:8080/"
        },
        "id": "Y0uL-d1zq4CA",
        "outputId": "cd344418-0fd3-4e3f-a534-5c804c434e5a"
      },
      "execution_count": null,
      "outputs": [
        {
          "output_type": "stream",
          "name": "stdout",
          "text": [
            "[1, 3, 5, 7, 9]\n",
            "[1, 3, 5, 7, 9]\n"
          ]
        }
      ]
    },
    {
      "cell_type": "code",
      "source": [
        "# tanpa if\n",
        "numbers = [i for i in range(11)]\n",
        "numbers"
      ],
      "metadata": {
        "colab": {
          "base_uri": "https://localhost:8080/"
        },
        "id": "YFbjvWEcWte1",
        "outputId": "4343b618-7020-4c17-dcad-0caed725df58"
      },
      "execution_count": null,
      "outputs": [
        {
          "output_type": "execute_result",
          "data": {
            "text/plain": [
              "[0, 1, 2, 3, 4, 5, 6, 7, 8, 9, 10]"
            ]
          },
          "metadata": {},
          "execution_count": 48
        }
      ]
    },
    {
      "cell_type": "code",
      "source": [
        "# double if\n",
        "\n",
        "numbers = [1, 2, 3, 4, 5, 6, 7, 8, 9, 10]\n",
        "\n",
        "# bilangan ganjil yang lebih dari 4\n",
        "even_numbers_gt_4 = [num for num in numbers if num % 2 == 0 if num > 4]\n",
        "\n",
        "print(even_numbers_gt_4) # Output: [6, 8, 10]\n"
      ],
      "metadata": {
        "colab": {
          "base_uri": "https://localhost:8080/"
        },
        "id": "zxl9H5oxSxBF",
        "outputId": "7581e2a2-505f-4a03-9fbd-788cfe39dcb0"
      },
      "execution_count": null,
      "outputs": [
        {
          "output_type": "stream",
          "name": "stdout",
          "text": [
            "[6, 8, 10]\n"
          ]
        }
      ]
    },
    {
      "cell_type": "code",
      "source": [
        "# nested loop\n",
        "\n",
        "matrix = [[1, 2, 3], [4, 5, 6], [7, 8, 9]]\n",
        "\n",
        "# Transpose the matrix\n",
        "transposed_matrix = [[row[i] for row in matrix] for i in range(len(matrix[0]))]\n",
        "\n",
        "transposed_matrix\n"
      ],
      "metadata": {
        "colab": {
          "base_uri": "https://localhost:8080/"
        },
        "id": "J-xHynxZSiJx",
        "outputId": "c074ad8e-b991-497e-af44-b35ba8b04eb6"
      },
      "execution_count": null,
      "outputs": [
        {
          "output_type": "execute_result",
          "data": {
            "text/plain": [
              "[[1, 4, 7], [2, 5, 8], [3, 6, 9]]"
            ]
          },
          "metadata": {},
          "execution_count": 38
        }
      ]
    },
    {
      "cell_type": "code",
      "source": [
        "# ada else\n",
        "numbers = [1, 2, 3, 4, 5, 6]\n",
        "even_odd = ['genap' if x % 2 == 0 else 'ganjil' for x in numbers]\n",
        "print(even_odd)"
      ],
      "metadata": {
        "colab": {
          "base_uri": "https://localhost:8080/"
        },
        "id": "XLgqTXWgVvG0",
        "outputId": "11ec4224-070e-4232-a7ab-acab1a352b0c"
      },
      "execution_count": null,
      "outputs": [
        {
          "output_type": "stream",
          "name": "stdout",
          "text": [
            "['ganjil', 'genap', 'ganjil', 'genap', 'ganjil', 'genap']\n"
          ]
        }
      ]
    },
    {
      "cell_type": "markdown",
      "source": [
        "## String manipulation"
      ],
      "metadata": {
        "id": "4CJu5KSFAbBY"
      }
    },
    {
      "cell_type": "code",
      "source": [
        "# 1. Basic string operations\n",
        "my_string = \"Hello, world!\"\n",
        "print(\"Original string:\", my_string)\n",
        "print(\"Length:\", len(my_string))\n",
        "print(\"Uppercase:\", my_string.upper())\n",
        "print(\"Lowercase:\", my_string.lower())"
      ],
      "metadata": {
        "id": "Sav1S4-eAx0X"
      },
      "execution_count": null,
      "outputs": []
    },
    {
      "cell_type": "code",
      "source": [
        "sentence = \"Lorem ipsum color sit diamet\"\n",
        "print(\"Capitalize:\", sentence.capitalize()) #Capitalize the first letter\n",
        "print(\"Title:\", sentence.title()) #Capitalize the first letter of each word"
      ],
      "metadata": {
        "id": "4QCi5xnlA4GU"
      },
      "execution_count": null,
      "outputs": []
    },
    {
      "cell_type": "code",
      "source": [
        "# 2. String slicing\n",
        "print(\"First character:\", my_string[0])\n",
        "print(\"Last character:\", my_string[-1])\n",
        "print(\"Slice from index 0 to 4:\", my_string[0:5]) # from 0 to 4 (5 not included)\n",
        "print(\"Slice from index 7 to the end:\", my_string[7:]) # from 7 to the end\n"
      ],
      "metadata": {
        "id": "vKcDeUxvBCOc"
      },
      "execution_count": null,
      "outputs": []
    },
    {
      "cell_type": "code",
      "source": [
        "# 3. String concatenation\n",
        "string1 = \"Python\"\n",
        "string2 = \" is fun!\"\n",
        "combined_string = string1 + string2\n",
        "print(combined_string)"
      ],
      "metadata": {
        "id": "iMKX3kJcBJe1"
      },
      "execution_count": null,
      "outputs": []
    },
    {
      "cell_type": "code",
      "source": [
        "# 4. String formatting\n",
        "name = \"Alice\"\n",
        "age = 30\n",
        "formatted_string = f\"My name is {name} and I am {age} years old.\"\n",
        "print(formatted_string)"
      ],
      "metadata": {
        "id": "fvCQ-6fiBJ58"
      },
      "execution_count": null,
      "outputs": []
    },
    {
      "cell_type": "code",
      "source": [
        "# 5. String methods\n",
        "sentence = \"This is a sample sentence.\"\n",
        "\n",
        "# mencari apakah kata/huruf ada di string\n",
        "print(\"Find 'sample':\", sentence.find(\"sample\"))\n",
        "\n",
        "# Mengganti kata\n",
        "print(\"Replace 'sentence' with 'string':\", sentence.replace(\"sentence\", \"string\"))"
      ],
      "metadata": {
        "id": "9VL4FpHBBTYr"
      },
      "execution_count": null,
      "outputs": []
    },
    {
      "cell_type": "code",
      "source": [
        "# 6. Splitting list\n",
        "print(\"Split the string into words:\", sentence.split())"
      ],
      "metadata": {
        "id": "jpNHMi5QBfQt"
      },
      "execution_count": null,
      "outputs": []
    },
    {
      "cell_type": "code",
      "source": [
        "# 7. String checking\n",
        "string3 = \"12345\"\n",
        "print(\"Is it all digits?\", string3.isdigit())\n",
        "string4 = \"Hello\"\n",
        "print(\"Is it all alphabets?\", string4.isalpha())"
      ],
      "metadata": {
        "id": "0VWnjistBm7h"
      },
      "execution_count": null,
      "outputs": []
    },
    {
      "cell_type": "code",
      "source": [
        "#  8. Removing whitespace\n",
        "text = \"  extra whitespace   \"\n",
        "print(\"Trimmed string:\", text.strip())"
      ],
      "metadata": {
        "id": "x-q8kPZqBoGB"
      },
      "execution_count": null,
      "outputs": []
    },
    {
      "cell_type": "markdown",
      "source": [
        "# OOP"
      ],
      "metadata": {
        "id": "ObQ4wQF5ZQdK"
      }
    },
    {
      "cell_type": "code",
      "source": [
        "class Dog:\n",
        "    def __init__(self, name, breed):\n",
        "        self.name = name\n",
        "        self.breed = breed\n",
        "\n",
        "    def bark(self):\n",
        "        print(\"Woof!\")\n",
        "\n",
        "# buat class\n",
        "my_dog = Dog(\"Buddy\", \"Golden Retriever\")\n",
        "\n",
        "# Access the attributes\n",
        "print(my_dog.name)  # Output: Buddy\n",
        "print(my_dog.breed) # Output: Golden Retriever\n",
        "\n",
        "# Call the method\n",
        "my_dog.bark()  # Output: Woof!\n",
        "\n",
        "# Change dog name\n",
        "my_dog.name = \"Max\"\n",
        "print(my_dog.name)  # Output: Max"
      ],
      "metadata": {
        "colab": {
          "base_uri": "https://localhost:8080/"
        },
        "id": "hg3xR7JJZR5h",
        "outputId": "24bdd380-9cc2-4624-a8fc-4e6439f13cb5"
      },
      "execution_count": null,
      "outputs": [
        {
          "output_type": "stream",
          "name": "stdout",
          "text": [
            "Buddy\n",
            "Golden Retriever\n",
            "Woof!\n",
            "Max\n"
          ]
        }
      ]
    },
    {
      "cell_type": "markdown",
      "source": [
        "# Testing"
      ],
      "metadata": {
        "id": "LuS3U8mRbEDr"
      }
    },
    {
      "cell_type": "code",
      "source": [
        "# yang akan diuji\n",
        "\n",
        "def add(a, b):\n",
        "    return a + b\n",
        "\n",
        "def subtract(a, b):\n",
        "    return a - b"
      ],
      "metadata": {
        "id": "q155Jk1ZbGCO"
      },
      "execution_count": null,
      "outputs": []
    },
    {
      "cell_type": "code",
      "source": [
        "import unittest\n",
        "\n",
        "class TestCalculator(unittest.TestCase):\n",
        "\n",
        "    def test_add(self):\n",
        "        # Menguji penjumlahan\n",
        "        self.assertEqual(add(2, 3), 5)\n",
        "        self.assertEqual(add(-1, 1), 0)\n",
        "        self.assertEqual(add(0, 0), 0)\n",
        "\n",
        "    def test_subtract(self):\n",
        "        # Menguji pengurangan\n",
        "        self.assertEqual(subtract(5, 3), 2)\n",
        "        self.assertEqual(subtract(-1, 1), -2)\n",
        "        self.assertEqual(subtract(0, 0), 0)\n",
        "\n",
        "if __name__ == \"__main__\":\n",
        "    unittest.main()"
      ],
      "metadata": {
        "colab": {
          "base_uri": "https://localhost:8080/",
          "height": 317
        },
        "id": "d1BYWeTZbW_R",
        "outputId": "071b98b9-90d3-45c2-df54-edede1cfd9d7"
      },
      "execution_count": null,
      "outputs": [
        {
          "output_type": "stream",
          "name": "stderr",
          "text": [
            "E\n",
            "======================================================================\n",
            "ERROR: /root/ (unittest.loader._FailedTest./root/)\n",
            "----------------------------------------------------------------------\n",
            "AttributeError: module '__main__' has no attribute '/root/'\n",
            "\n",
            "----------------------------------------------------------------------\n",
            "Ran 1 test in 0.003s\n",
            "\n",
            "FAILED (errors=1)\n"
          ]
        },
        {
          "output_type": "error",
          "ename": "SystemExit",
          "evalue": "True",
          "traceback": [
            "An exception has occurred, use %tb to see the full traceback.\n",
            "\u001b[0;31mSystemExit\u001b[0m\u001b[0;31m:\u001b[0m True\n"
          ]
        },
        {
          "output_type": "stream",
          "name": "stderr",
          "text": [
            "/usr/local/lib/python3.11/dist-packages/IPython/core/interactiveshell.py:3561: UserWarning: To exit: use 'exit', 'quit', or Ctrl-D.\n",
            "  warn(\"To exit: use 'exit', 'quit', or Ctrl-D.\", stacklevel=1)\n"
          ]
        }
      ]
    },
    {
      "cell_type": "code",
      "source": [],
      "metadata": {
        "id": "DKIo71e4bchq"
      },
      "execution_count": null,
      "outputs": []
    }
  ]
}